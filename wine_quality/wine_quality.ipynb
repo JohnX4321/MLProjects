{
 "cells": [
  {
   "cell_type": "code",
   "execution_count": 1,
   "metadata": {
    "collapsed": true,
    "pycharm": {
     "is_executing": false
    }
   },
   "outputs": [],
   "source": [
    "import pandas as pd\n",
    "from sklearn.model_selection import train_test_split\n",
    "from sklearn.linear_model import LinearRegression\n",
    "from sklearn import metrics\n",
    "from sklearn.metrics import mean_squared_error\n",
    "import matplotlib.pyplot as plt\n",
    "import numpy as np\n",
    "import seaborn as sns"
   ]
  },
  {
   "cell_type": "code",
   "execution_count": 2,
   "outputs": [
    {
     "data": {
      "text/plain": "   fixed acidity  volatile acidity  citric acid  residual sugar  chlorides  \\\n0            7.4              0.70         0.00             1.9      0.076   \n1            7.8              0.88         0.00             2.6      0.098   \n2            7.8              0.76         0.04             2.3      0.092   \n3           11.2              0.28         0.56             1.9      0.075   \n4            7.4              0.70         0.00             1.9      0.076   \n\n   free sulfur dioxide  total sulfur dioxide  density    pH  sulphates  \\\n0                 11.0                  34.0   0.9978  3.51       0.56   \n1                 25.0                  67.0   0.9968  3.20       0.68   \n2                 15.0                  54.0   0.9970  3.26       0.65   \n3                 17.0                  60.0   0.9980  3.16       0.58   \n4                 11.0                  34.0   0.9978  3.51       0.56   \n\n   alcohol  quality  \n0      9.4        5  \n1      9.8        5  \n2      9.8        5  \n3      9.8        6  \n4      9.4        5  ",
      "text/html": "<div>\n<style scoped>\n    .dataframe tbody tr th:only-of-type {\n        vertical-align: middle;\n    }\n\n    .dataframe tbody tr th {\n        vertical-align: top;\n    }\n\n    .dataframe thead th {\n        text-align: right;\n    }\n</style>\n<table border=\"1\" class=\"dataframe\">\n  <thead>\n    <tr style=\"text-align: right;\">\n      <th></th>\n      <th>fixed acidity</th>\n      <th>volatile acidity</th>\n      <th>citric acid</th>\n      <th>residual sugar</th>\n      <th>chlorides</th>\n      <th>free sulfur dioxide</th>\n      <th>total sulfur dioxide</th>\n      <th>density</th>\n      <th>pH</th>\n      <th>sulphates</th>\n      <th>alcohol</th>\n      <th>quality</th>\n    </tr>\n  </thead>\n  <tbody>\n    <tr>\n      <th>0</th>\n      <td>7.4</td>\n      <td>0.70</td>\n      <td>0.00</td>\n      <td>1.9</td>\n      <td>0.076</td>\n      <td>11.0</td>\n      <td>34.0</td>\n      <td>0.9978</td>\n      <td>3.51</td>\n      <td>0.56</td>\n      <td>9.4</td>\n      <td>5</td>\n    </tr>\n    <tr>\n      <th>1</th>\n      <td>7.8</td>\n      <td>0.88</td>\n      <td>0.00</td>\n      <td>2.6</td>\n      <td>0.098</td>\n      <td>25.0</td>\n      <td>67.0</td>\n      <td>0.9968</td>\n      <td>3.20</td>\n      <td>0.68</td>\n      <td>9.8</td>\n      <td>5</td>\n    </tr>\n    <tr>\n      <th>2</th>\n      <td>7.8</td>\n      <td>0.76</td>\n      <td>0.04</td>\n      <td>2.3</td>\n      <td>0.092</td>\n      <td>15.0</td>\n      <td>54.0</td>\n      <td>0.9970</td>\n      <td>3.26</td>\n      <td>0.65</td>\n      <td>9.8</td>\n      <td>5</td>\n    </tr>\n    <tr>\n      <th>3</th>\n      <td>11.2</td>\n      <td>0.28</td>\n      <td>0.56</td>\n      <td>1.9</td>\n      <td>0.075</td>\n      <td>17.0</td>\n      <td>60.0</td>\n      <td>0.9980</td>\n      <td>3.16</td>\n      <td>0.58</td>\n      <td>9.8</td>\n      <td>6</td>\n    </tr>\n    <tr>\n      <th>4</th>\n      <td>7.4</td>\n      <td>0.70</td>\n      <td>0.00</td>\n      <td>1.9</td>\n      <td>0.076</td>\n      <td>11.0</td>\n      <td>34.0</td>\n      <td>0.9978</td>\n      <td>3.51</td>\n      <td>0.56</td>\n      <td>9.4</td>\n      <td>5</td>\n    </tr>\n  </tbody>\n</table>\n</div>"
     },
     "metadata": {},
     "output_type": "execute_result",
     "execution_count": 2
    }
   ],
   "source": [
    "df=pd.read_csv('winequality-red.csv')\n",
    "\n",
    "df.head()\n"
   ],
   "metadata": {
    "collapsed": false,
    "pycharm": {
     "name": "#%%\n",
     "is_executing": false
    }
   }
  },
  {
   "cell_type": "code",
   "execution_count": 3,
   "outputs": [
    {
     "name": "stdout",
     "text": [
      "fixed acidity           0.124052\nvolatile acidity       -0.390558\ncitric acid             0.226373\nresidual sugar          0.013732\nchlorides              -0.128907\nfree sulfur dioxide    -0.050656\ntotal sulfur dioxide   -0.185100\ndensity                -0.174919\npH                     -0.057731\nsulphates               0.251397\nalcohol                 0.476166\nName: quality, dtype: float64\n"
     ],
     "output_type": "stream"
    }
   ],
   "source": [
    "correlations=df.corr()['quality'].drop('quality')\n",
    "print(correlations)"
   ],
   "metadata": {
    "collapsed": false,
    "pycharm": {
     "name": "#%%\n",
     "is_executing": false
    }
   }
  },
  {
   "cell_type": "code",
   "execution_count": 4,
   "outputs": [
    {
     "data": {
      "text/plain": "<Figure size 432x288 with 2 Axes>",
      "image/png": "[encoded data removed]"
     },
     "metadata": {
      "needs_background": "light"
     },
     "output_type": "display_data"
    }
   ],
   "source": [
    "sns.heatmap(df.corr())\n",
    "plt.show()"
   ],
   "metadata": {
    "collapsed": false,
    "pycharm": {
     "name": "#%%\n",
     "is_executing": false
    }
   }
  },
  {
   "cell_type": "code",
   "execution_count": 5,
   "outputs": [],
   "source": [
    "def get_features(corr_threshold):\n",
    "    abs_corrs=correlations.abs()\n",
    "    return abs_corrs[abs_corrs>corr_threshold].index.values.tolist()"
   ],
   "metadata": {
    "collapsed": false,
    "pycharm": {
     "name": "#%%\n",
     "is_executing": false
    }
   }
  },
  {
   "cell_type": "code",
   "execution_count": 6,
   "outputs": [
    {
     "name": "stdout",
     "text": [
      "['fixed acidity', 'volatile acidity', 'citric acid', 'chlorides', 'free sulfur dioxide', 'total sulfur dioxide', 'density', 'pH', 'sulphates', 'alcohol']\n"
     ],
     "output_type": "stream"
    }
   ],
   "source": [
    "features=get_features(0.05)\n",
    "print(features)\n",
    "x=df[features]\n",
    "y=df['quality']\n"
   ],
   "metadata": {
    "collapsed": false,
    "pycharm": {
     "name": "#%%\n",
     "is_executing": false
    }
   }
  },
  {
   "cell_type": "code",
   "execution_count": 7,
   "outputs": [
    {
     "data": {
      "text/plain": "array([5.10801475, 5.65933623, 5.90407267, 6.13461179, 5.00611866,\n       5.44514691, 5.05735245, 6.15497513, 5.51919603, 5.77259374,\n       5.61809366, 5.23616173, 5.23544213, 5.31968644, 6.47007277,\n       5.043404  , 5.85287121, 5.19427909, 6.07727089, 6.34949018,\n       6.42525555, 5.51221957, 5.8030796 , 4.93637817, 5.16618356,\n       5.48255293, 5.13758624, 6.60000969, 5.88754763, 5.74133915,\n       6.09716961, 6.29379754, 4.91269821, 5.88611904, 5.11007273,\n       5.94574773, 6.80685536, 5.04305653, 5.25438683, 5.88611904,\n       5.17406542, 4.84008442, 6.48781656, 5.40521715, 5.31105571,\n       5.84484462, 5.7100681 , 5.24300809, 5.25021217, 5.46398911,\n       5.08740494, 5.61369555, 6.01375792, 6.32497377, 5.47511954,\n       5.36466869, 5.09234555, 4.92625623, 5.21415941, 5.08274744,\n       4.79570013, 5.4377645 , 5.25237771, 5.68830391, 5.85145609,\n       6.52420079, 5.38691412, 5.71775637, 5.17641417, 5.99156845,\n       5.6445189 , 5.60892012, 5.74967567, 5.21702288, 5.97975854,\n       5.51115845, 5.41121547, 5.6832459 , 5.63971524, 5.74133915,\n       6.24163428, 5.27915822, 4.66596769, 6.04951743, 5.52401618,\n       5.17823915, 5.20672986, 5.96322663, 5.50411353, 5.64866275,\n       5.70105618, 5.6431575 , 5.72586828, 5.3173125 , 5.37075392,\n       5.394889  , 4.82061159, 5.46006525, 5.47363879, 6.54074801,\n       6.13723937, 5.61422461, 6.07821503, 6.17461539, 5.73230665,\n       4.92692198, 4.73317591, 5.03851027, 5.44868797, 5.78432759,\n       6.46608259, 5.47530673, 6.46876056, 5.94466642, 5.43257493,\n       5.20523855, 5.34551741, 5.20749557, 6.19344578, 5.61453943,\n       5.83308923, 5.20267759, 5.17702922, 5.26912156, 5.74382704,\n       5.6431575 , 6.15450941, 5.89677877, 5.49186029, 5.39047629,\n       5.25848318, 5.41150099, 5.70750135, 5.68001376, 6.58288921,\n       5.89497164, 6.37172338, 5.72945992, 5.37936908, 5.14371952,\n       5.58851063, 6.59661777, 5.24403336, 5.25594627, 5.54721935,\n       5.17243958, 5.76990082, 6.10847777, 6.93985005, 4.99562031,\n       5.01958735, 4.68547026, 5.82434616, 5.01708671, 5.21702288,\n       5.70819215, 5.63334181, 5.33481542, 5.22220103, 5.84327644,\n       5.61823023, 5.78078643, 5.51830906, 6.03898671, 5.63808482,\n       5.49193476, 5.96787582, 4.82363567, 5.26331016, 5.6625652 ,\n       5.73510278, 6.59570394, 5.02584187, 5.9062506 , 5.85381667,\n       5.21140744, 5.68951564, 5.51649995, 5.40521715, 6.37974889,\n       6.71642336, 4.98858413, 5.88413601, 5.75553621, 5.75508093,\n       5.61677128, 5.71318209, 5.40944809, 6.05634078, 5.58276397,\n       5.88366084, 6.51928901, 5.00668628, 5.4022397 , 5.18103224,\n       5.17641417, 5.47511954, 5.7498414 , 5.69035164, 4.92770738,\n       5.12908401, 4.98756458, 6.18242395, 5.65384546, 5.45261211,\n       5.56461849, 4.99367423, 5.8451887 , 5.31537513, 5.48096741,\n       5.69721582, 5.63441998, 5.69158339, 5.82596777, 5.79120742,\n       6.02976291, 6.20119324, 5.2711036 , 5.04432824, 5.21865445,\n       5.38560996, 4.97814926, 6.21495495, 5.44287205, 5.94855371,\n       5.21554859, 6.61250215, 5.08358009, 5.29397027, 5.0345619 ,\n       6.16924449, 5.78078489, 4.85807345, 5.74347603, 5.29957538,\n       5.35504601, 5.17674741, 6.30056659, 5.58203663, 4.95859588,\n       6.10234044, 6.03135183, 6.16235396, 5.41939397, 6.76220041,\n       6.20905743, 6.08858508, 5.2295158 , 5.45339068, 5.54357835,\n       5.35504601, 5.24163328, 5.74950618, 5.25054347, 6.1317778 ,\n       5.42684978, 5.84929436, 4.82101128, 6.06442799, 5.06580635,\n       6.43296901, 6.06017586, 5.69914195, 5.70750135, 4.90849494,\n       6.00470504, 5.28204515, 5.70851728, 5.42245606, 5.12401141,\n       6.4859156 , 5.3065303 , 5.97368396, 5.64309435, 6.49134579,\n       6.20544121, 5.09817253, 5.47044255, 5.30164692, 5.24148223,\n       6.37172338, 5.38111102, 5.41238036, 6.00040309, 4.98474017,\n       5.89003832, 5.35695446, 5.18204386, 5.43418226, 5.92040958,\n       4.83001281, 6.84476407, 5.17004942, 4.90738182, 5.71686848,\n       5.6789345 , 5.30006437, 6.28821696, 6.8852049 , 6.5809374 ,\n       5.94544069, 6.3372236 , 5.90511355, 5.56832499, 6.0037674 ,\n       5.51592572, 5.47416032, 5.73230665, 5.31523101, 5.15200739,\n       6.22058683, 5.30080495, 6.2234137 , 6.09823805, 5.86965547,\n       5.42671619, 4.83521332, 6.04105625, 5.17954177, 5.11991572,\n       6.45483786, 5.50117269, 6.75189479, 5.112668  , 5.16698378,\n       5.30775351, 5.71062442, 5.10611189, 5.54132974, 5.3123985 ,\n       5.16102307, 4.95778371, 5.4565424 , 5.38281735, 5.34456446,\n       5.18064244, 6.11817384, 5.624629  , 5.7335454 , 6.34845774,\n       5.90187012, 5.51649995, 5.69382597, 5.14872878, 5.70431206,\n       6.40518994, 6.17170859, 5.46670957, 6.06382552, 5.69529022,\n       6.24040985, 5.24148223, 5.5445765 , 5.04703379, 4.99563993,\n       5.07398398, 5.81020153, 5.40277302, 5.9958201 , 5.1304824 ,\n       6.51949038, 5.39875246, 5.49117974, 5.64759732, 5.52711217,\n       5.27288466, 6.49134579, 5.83141585, 5.03473182, 5.24121201,\n       5.49075176, 5.27342775, 5.5118796 , 5.04396982, 5.29167137,\n       5.46007816, 5.36402691, 6.12719352, 4.99200331, 5.30164692,\n       6.08655307, 5.20523855, 5.13058231, 4.66155684, 6.15823093,\n       6.15917286, 6.50582017, 5.80335212, 5.74347603, 6.39828821,\n       6.14436092, 5.88754763, 6.05466721, 6.03231119, 5.36683868,\n       5.41989769, 5.61706715, 5.4057693 , 5.76283208, 5.2734642 ])"
     },
     "metadata": {},
     "output_type": "execute_result",
     "execution_count": 7
    }
   ],
   "source": [
    "x_train,x_test,y_train,y_test=train_test_split(x,y,random_state=3)\n",
    "regressor=LinearRegression()\n",
    "regressor.fit(x_train,y_train)\n",
    "regressor.coef_\n",
    "\n",
    "train_pred=regressor.predict(x_train)\n",
    "train_pred\n",
    "\n",
    "test_pred = regressor.predict(x_test)\n",
    "test_pred"
   ],
   "metadata": {
    "collapsed": false,
    "pycharm": {
     "name": "#%%\n",
     "is_executing": false
    }
   }
  },
  {
   "cell_type": "code",
   "execution_count": 11,
   "outputs": [
    {
     "name": "stdout",
     "text": [
      "Mean Absolute Error: 0.48443407559847157\nMean Squared Error: 0.39380413462920977\nRoot Mean Squared Error: 0.627538153923098\n"
     ],
     "output_type": "stream"
    }
   ],
   "source": [
    "train_rmse=metrics.mean_squared_error(train_pred,y_train)**0.5\n",
    "test_rmse=metrics.mean_squared_error(test_pred,y_test)**0.5\n",
    "predict_data=np.round(test_pred)\n",
    "print('Mean Absolute Error:', metrics.mean_absolute_error(y_test, test_pred))\n",
    "print('Mean Squared Error:', metrics.mean_squared_error(y_test, test_pred))\n",
    "print('Root Mean Squared Error:', np.sqrt(metrics.mean_squared_error(y_test, test_pred)))"
   ],
   "metadata": {
    "collapsed": false,
    "pycharm": {
     "name": "#%%\n",
     "is_executing": false
    }
   }
  },
  {
   "cell_type": "code",
   "execution_count": 12,
   "outputs": [
    {
     "data": {
      "text/plain": "                      Coeffecient\nfixed acidity            0.017737\nvolatile acidity        -0.992560\ncitric acid             -0.139629\nchlorides               -1.590943\nfree sulfur dioxide      0.005597\ntotal sulfur dioxide    -0.003520\ndensity                  0.768590\npH                      -0.437414\nsulphates                0.812888\nalcohol                  0.301484",
      "text/html": "<div>\n<style scoped>\n    .dataframe tbody tr th:only-of-type {\n        vertical-align: middle;\n    }\n\n    .dataframe tbody tr th {\n        vertical-align: top;\n    }\n\n    .dataframe thead th {\n        text-align: right;\n    }\n</style>\n<table border=\"1\" class=\"dataframe\">\n  <thead>\n    <tr style=\"text-align: right;\">\n      <th></th>\n      <th>Coeffecient</th>\n    </tr>\n  </thead>\n  <tbody>\n    <tr>\n      <th>fixed acidity</th>\n      <td>0.017737</td>\n    </tr>\n    <tr>\n      <th>volatile acidity</th>\n      <td>-0.992560</td>\n    </tr>\n    <tr>\n      <th>citric acid</th>\n      <td>-0.139629</td>\n    </tr>\n    <tr>\n      <th>chlorides</th>\n      <td>-1.590943</td>\n    </tr>\n    <tr>\n      <th>free sulfur dioxide</th>\n      <td>0.005597</td>\n    </tr>\n    <tr>\n      <th>total sulfur dioxide</th>\n      <td>-0.003520</td>\n    </tr>\n    <tr>\n      <th>density</th>\n      <td>0.768590</td>\n    </tr>\n    <tr>\n      <th>pH</th>\n      <td>-0.437414</td>\n    </tr>\n    <tr>\n      <th>sulphates</th>\n      <td>0.812888</td>\n    </tr>\n    <tr>\n      <th>alcohol</th>\n      <td>0.301484</td>\n    </tr>\n  </tbody>\n</table>\n</div>"
     },
     "metadata": {},
     "output_type": "execute_result",
     "execution_count": 12
    }
   ],
   "source": [
    "coeffecients = pd.DataFrame(regressor.coef_,features)\n",
    "coeffecients.columns = ['Coeffecient']\n",
    "coeffecients\n",
    "\n",
    "\n"
   ],
   "metadata": {
    "collapsed": false,
    "pycharm": {
     "name": "#%%\n",
     "is_executing": false
    }
   }
  }
 ],
 "metadata": {
  "kernelspec": {
   "display_name": "Python 3",
   "language": "python",
   "name": "python3"
  },
  "language_info": {
   "codemirror_mode": {
    "name": "ipython",
    "version": 2
   },
   "file_extension": ".py",
   "mimetype": "text/x-python",
   "name": "python",
   "nbconvert_exporter": "python",
   "pygments_lexer": "ipython2",
   "version": "2.7.6"
  },
  "pycharm": {
   "stem_cell": {
    "cell_type": "raw",
    "source": [],
    "metadata": {
     "collapsed": false
    }
   }
  }
 },
 "nbformat": 4,
 "nbformat_minor": 0
}